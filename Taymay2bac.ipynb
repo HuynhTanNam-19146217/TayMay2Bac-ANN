{
  "nbformat": 4,
  "nbformat_minor": 0,
  "metadata": {
    "colab": {
      "name": "Taymay2bac.ipynb",
      "provenance": [],
      "collapsed_sections": [],
      "authorship_tag": "ABX9TyMTYIO6+ygTwAIBQmmvBBaG",
      "include_colab_link": true
    },
    "kernelspec": {
      "name": "python3",
      "display_name": "Python 3"
    },
    "language_info": {
      "name": "python"
    }
  },
  "cells": [
    {
      "cell_type": "markdown",
      "metadata": {
        "id": "view-in-github",
        "colab_type": "text"
      },
      "source": [
        "<a href=\"https://colab.research.google.com/github/HuynhTanNam-19146217/TayMay2Bac-ANN/blob/Taymay2bac/Taymay2bac.ipynb\" target=\"_parent\"><img src=\"https://colab.research.google.com/assets/colab-badge.svg\" alt=\"Open In Colab\"/></a>"
      ]
    },
    {
      "cell_type": "code",
      "execution_count": null,
      "metadata": {
        "id": "uyfsIl6KTfnG"
      },
      "outputs": [],
      "source": [
        "import csv\n",
        "import math as m\n",
        "import pandas as pd\n",
        "import numpy as np\n",
        "from sklearn.model_selection import train_test_split\n",
        "from keras.models import Sequential\n",
        "from keras.layers import Dense, Activation, Dropout, Flatten\n",
        "from tensorflow.keras.optimizers import RMSprop\n",
        "L1 = 50\n",
        "L2 = 40\n",
        "with open('robot2b.csv','w') as file:\n",
        "  writer = csv.writer(file)\n",
        "  writer.writerow(['theta1','theta2','px','py'])\n",
        "  for theta1 in range(-180,180,1):\n",
        "    for theta2 in range(-180,180,1):\n",
        "      theta1 = (theta1*m.pi)/180\n",
        "      theta2 = (theta2*m.pi)/180\n",
        "      px = L1*m.cos(theta1) + L2*m.cos(theta1+theta2)\n",
        "      py = L1*m.sin(theta1) + L2*m.sin(theta1+theta2)\n",
        "      writer.writerow([theta1,theta2,px,py])"
      ]
    },
    {
      "cell_type": "code",
      "source": [
        "model = Sequential()\n",
        "model.add(Dense(128,activation='relu',input_shape=(2,)))\n",
        "model.add(Dense(128,activation='relu'))\n",
        "model.add(Dense(128,activation='relu'))\n",
        "model.add(Dense(128,activation='relu'))\n",
        "model.add(Dense(2,activation='Softmax'))\n",
        "print(model.summary())"
      ],
      "metadata": {
        "colab": {
          "base_uri": "https://localhost:8080/"
        },
        "id": "T7yOj33cp_bz",
        "outputId": "e8635632-033a-4178-b717-7cafc554d1ad"
      },
      "execution_count": null,
      "outputs": [
        {
          "output_type": "stream",
          "name": "stdout",
          "text": [
            "Model: \"sequential_2\"\n",
            "_________________________________________________________________\n",
            " Layer (type)                Output Shape              Param #   \n",
            "=================================================================\n",
            " dense_9 (Dense)             (None, 128)               384       \n",
            "                                                                 \n",
            " dense_10 (Dense)            (None, 128)               16512     \n",
            "                                                                 \n",
            " dense_11 (Dense)            (None, 128)               16512     \n",
            "                                                                 \n",
            " dense_12 (Dense)            (None, 128)               16512     \n",
            "                                                                 \n",
            " dense_13 (Dense)            (None, 2)                 258       \n",
            "                                                                 \n",
            "=================================================================\n",
            "Total params: 50,178\n",
            "Trainable params: 50,178\n",
            "Non-trainable params: 0\n",
            "_________________________________________________________________\n",
            "None\n"
          ]
        }
      ]
    },
    {
      "cell_type": "code",
      "source": [
        "data = pd.read_csv('robot2b.csv')\n",
        "y = data.drop(data.columns[2:],axis = 1)\n",
        "x = data.drop(data.columns[:2],axis = 1)\n",
        "x_train,x_test,y_train,y_test = train_test_split(x,y,test_size=0.3)"
      ],
      "metadata": {
        "id": "JtAJV1biqcyq"
      },
      "execution_count": null,
      "outputs": []
    },
    {
      "cell_type": "code",
      "source": [
        "model.compile(loss='mse',optimizer=RMSprop(),metrics=['accuracy'])\n",
        "history = model.fit(x_train,y_train,batch_size = 128,epochs=10,verbose=1,validation_data = (x_test, y_test))"
      ],
      "metadata": {
        "colab": {
          "base_uri": "https://localhost:8080/"
        },
        "id": "UK4xbUzJqfKU",
        "outputId": "e77926a1-6c8b-455c-e6d8-201f1db36758"
      },
      "execution_count": null,
      "outputs": [
        {
          "output_type": "stream",
          "name": "stdout",
          "text": [
            "Epoch 1/10\n",
            "709/709 [==============================] - 4s 4ms/step - loss: 1.3821 - accuracy: 0.9833 - val_loss: 1.3579 - val_accuracy: 0.9885\n",
            "Epoch 2/10\n",
            "709/709 [==============================] - 2s 3ms/step - loss: 1.3781 - accuracy: 0.9894 - val_loss: 1.3578 - val_accuracy: 0.9941\n",
            "Epoch 3/10\n",
            "709/709 [==============================] - 2s 3ms/step - loss: 1.3767 - accuracy: 0.9907 - val_loss: 1.3576 - val_accuracy: 0.9971\n",
            "Epoch 4/10\n",
            "709/709 [==============================] - 3s 4ms/step - loss: 1.3773 - accuracy: 0.9924 - val_loss: 1.3576 - val_accuracy: 0.9971\n",
            "Epoch 5/10\n",
            "709/709 [==============================] - 2s 3ms/step - loss: 1.3789 - accuracy: 0.9868 - val_loss: 1.3578 - val_accuracy: 0.9863\n",
            "Epoch 6/10\n",
            "709/709 [==============================] - 2s 4ms/step - loss: 1.3768 - accuracy: 0.9945 - val_loss: 1.3572 - val_accuracy: 0.9967\n",
            "Epoch 7/10\n",
            "709/709 [==============================] - 2s 3ms/step - loss: 1.3767 - accuracy: 0.9929 - val_loss: 1.3577 - val_accuracy: 0.9938\n",
            "Epoch 8/10\n",
            "709/709 [==============================] - 2s 4ms/step - loss: 1.3768 - accuracy: 0.9952 - val_loss: 1.3572 - val_accuracy: 0.9967\n",
            "Epoch 9/10\n",
            "709/709 [==============================] - 3s 4ms/step - loss: 1.3772 - accuracy: 0.9954 - val_loss: 1.3574 - val_accuracy: 0.9996\n",
            "Epoch 10/10\n",
            "709/709 [==============================] - 2s 3ms/step - loss: 1.3783 - accuracy: 0.9865 - val_loss: 1.3576 - val_accuracy: 0.9886\n"
          ]
        }
      ]
    },
    {
      "cell_type": "code",
      "source": [
        "model.save('robot2.h5')"
      ],
      "metadata": {
        "id": "0bkuc7f2q-3e"
      },
      "execution_count": null,
      "outputs": []
    },
    {
      "cell_type": "code",
      "source": [
        "import tensorflow as tf\n",
        "saved_model = tf.keras.models.load_model(\"robot2.h5\")"
      ],
      "metadata": {
        "id": "FOqrVePGrB0F"
      },
      "execution_count": null,
      "outputs": []
    },
    {
      "cell_type": "code",
      "source": [
        "model.evaluate(x_test,y_test,verbose=1)\n"
      ],
      "metadata": {
        "colab": {
          "base_uri": "https://localhost:8080/"
        },
        "id": "n9EmROtTrFGH",
        "outputId": "645085cc-45bb-450a-80a9-529067d3928c"
      },
      "execution_count": null,
      "outputs": [
        {
          "output_type": "stream",
          "name": "stdout",
          "text": [
            "1215/1215 [==============================] - 3s 2ms/step - loss: 1.3576 - accuracy: 0.9886\n"
          ]
        },
        {
          "output_type": "execute_result",
          "data": {
            "text/plain": [
              "[1.3576325178146362, 0.9885802268981934]"
            ]
          },
          "metadata": {},
          "execution_count": 12
        }
      ]
    },
    {
      "cell_type": "code",
      "source": [
        "result = saved_model.predict(x_test[4000:4001])\n",
        "result"
      ],
      "metadata": {
        "id": "MWwnEa_TU-3c",
        "colab": {
          "base_uri": "https://localhost:8080/"
        },
        "outputId": "b770eb8f-5cdb-48b0-e246-3482ae9aee5c"
      },
      "execution_count": null,
      "outputs": [
        {
          "output_type": "execute_result",
          "data": {
            "text/plain": [
              "array([[0., 1.]], dtype=float32)"
            ]
          },
          "metadata": {},
          "execution_count": 13
        }
      ]
    },
    {
      "cell_type": "code",
      "source": [
        "y_test[4000:4001]"
      ],
      "metadata": {
        "colab": {
          "base_uri": "https://localhost:8080/",
          "height": 81
        },
        "id": "jmp3ebC98GDj",
        "outputId": "303762a9-012e-43a6-b663-f3c9996f53ab"
      },
      "execution_count": null,
      "outputs": [
        {
          "output_type": "execute_result",
          "data": {
            "text/plain": [
              "       theta1    theta2\n",
              "40517    -0.0  0.296706"
            ],
            "text/html": [
              "\n",
              "  <div id=\"df-8ba6fa0f-d9e7-4bb8-b9cc-21b2414ff26d\">\n",
              "    <div class=\"colab-df-container\">\n",
              "      <div>\n",
              "<style scoped>\n",
              "    .dataframe tbody tr th:only-of-type {\n",
              "        vertical-align: middle;\n",
              "    }\n",
              "\n",
              "    .dataframe tbody tr th {\n",
              "        vertical-align: top;\n",
              "    }\n",
              "\n",
              "    .dataframe thead th {\n",
              "        text-align: right;\n",
              "    }\n",
              "</style>\n",
              "<table border=\"1\" class=\"dataframe\">\n",
              "  <thead>\n",
              "    <tr style=\"text-align: right;\">\n",
              "      <th></th>\n",
              "      <th>theta1</th>\n",
              "      <th>theta2</th>\n",
              "    </tr>\n",
              "  </thead>\n",
              "  <tbody>\n",
              "    <tr>\n",
              "      <th>40517</th>\n",
              "      <td>-0.0</td>\n",
              "      <td>0.296706</td>\n",
              "    </tr>\n",
              "  </tbody>\n",
              "</table>\n",
              "</div>\n",
              "      <button class=\"colab-df-convert\" onclick=\"convertToInteractive('df-8ba6fa0f-d9e7-4bb8-b9cc-21b2414ff26d')\"\n",
              "              title=\"Convert this dataframe to an interactive table.\"\n",
              "              style=\"display:none;\">\n",
              "        \n",
              "  <svg xmlns=\"http://www.w3.org/2000/svg\" height=\"24px\"viewBox=\"0 0 24 24\"\n",
              "       width=\"24px\">\n",
              "    <path d=\"M0 0h24v24H0V0z\" fill=\"none\"/>\n",
              "    <path d=\"M18.56 5.44l.94 2.06.94-2.06 2.06-.94-2.06-.94-.94-2.06-.94 2.06-2.06.94zm-11 1L8.5 8.5l.94-2.06 2.06-.94-2.06-.94L8.5 2.5l-.94 2.06-2.06.94zm10 10l.94 2.06.94-2.06 2.06-.94-2.06-.94-.94-2.06-.94 2.06-2.06.94z\"/><path d=\"M17.41 7.96l-1.37-1.37c-.4-.4-.92-.59-1.43-.59-.52 0-1.04.2-1.43.59L10.3 9.45l-7.72 7.72c-.78.78-.78 2.05 0 2.83L4 21.41c.39.39.9.59 1.41.59.51 0 1.02-.2 1.41-.59l7.78-7.78 2.81-2.81c.8-.78.8-2.07 0-2.86zM5.41 20L4 18.59l7.72-7.72 1.47 1.35L5.41 20z\"/>\n",
              "  </svg>\n",
              "      </button>\n",
              "      \n",
              "  <style>\n",
              "    .colab-df-container {\n",
              "      display:flex;\n",
              "      flex-wrap:wrap;\n",
              "      gap: 12px;\n",
              "    }\n",
              "\n",
              "    .colab-df-convert {\n",
              "      background-color: #E8F0FE;\n",
              "      border: none;\n",
              "      border-radius: 50%;\n",
              "      cursor: pointer;\n",
              "      display: none;\n",
              "      fill: #1967D2;\n",
              "      height: 32px;\n",
              "      padding: 0 0 0 0;\n",
              "      width: 32px;\n",
              "    }\n",
              "\n",
              "    .colab-df-convert:hover {\n",
              "      background-color: #E2EBFA;\n",
              "      box-shadow: 0px 1px 2px rgba(60, 64, 67, 0.3), 0px 1px 3px 1px rgba(60, 64, 67, 0.15);\n",
              "      fill: #174EA6;\n",
              "    }\n",
              "\n",
              "    [theme=dark] .colab-df-convert {\n",
              "      background-color: #3B4455;\n",
              "      fill: #D2E3FC;\n",
              "    }\n",
              "\n",
              "    [theme=dark] .colab-df-convert:hover {\n",
              "      background-color: #434B5C;\n",
              "      box-shadow: 0px 1px 3px 1px rgba(0, 0, 0, 0.15);\n",
              "      filter: drop-shadow(0px 1px 2px rgba(0, 0, 0, 0.3));\n",
              "      fill: #FFFFFF;\n",
              "    }\n",
              "  </style>\n",
              "\n",
              "      <script>\n",
              "        const buttonEl =\n",
              "          document.querySelector('#df-8ba6fa0f-d9e7-4bb8-b9cc-21b2414ff26d button.colab-df-convert');\n",
              "        buttonEl.style.display =\n",
              "          google.colab.kernel.accessAllowed ? 'block' : 'none';\n",
              "\n",
              "        async function convertToInteractive(key) {\n",
              "          const element = document.querySelector('#df-8ba6fa0f-d9e7-4bb8-b9cc-21b2414ff26d');\n",
              "          const dataTable =\n",
              "            await google.colab.kernel.invokeFunction('convertToInteractive',\n",
              "                                                     [key], {});\n",
              "          if (!dataTable) return;\n",
              "\n",
              "          const docLinkHtml = 'Like what you see? Visit the ' +\n",
              "            '<a target=\"_blank\" href=https://colab.research.google.com/notebooks/data_table.ipynb>data table notebook</a>'\n",
              "            + ' to learn more about interactive tables.';\n",
              "          element.innerHTML = '';\n",
              "          dataTable['output_type'] = 'display_data';\n",
              "          await google.colab.output.renderOutput(dataTable, element);\n",
              "          const docLink = document.createElement('div');\n",
              "          docLink.innerHTML = docLinkHtml;\n",
              "          element.appendChild(docLink);\n",
              "        }\n",
              "      </script>\n",
              "    </div>\n",
              "  </div>\n",
              "  "
            ]
          },
          "metadata": {},
          "execution_count": 14
        }
      ]
    }
  ]
}